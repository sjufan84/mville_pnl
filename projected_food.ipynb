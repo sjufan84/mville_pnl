{
 "cells": [
  {
   "cell_type": "code",
   "execution_count": 1,
   "metadata": {},
   "outputs": [],
   "source": [
    "import pandas as pd\n",
    "from sklearn.model_selection import train_test_split\n",
    "from sklearn.linear_model import LinearRegression\n",
    "from sklearn.metrics import mean_squared_error\n",
    "from sklearn.metrics import accuracy_score\n",
    "from pathlib import Path\n",
    "import numpy as np"
   ]
  },
  {
   "cell_type": "code",
   "execution_count": 2,
   "metadata": {},
   "outputs": [
    {
     "data": {
      "text/html": [
       "<div>\n",
       "<style scoped>\n",
       "    .dataframe tbody tr th:only-of-type {\n",
       "        vertical-align: middle;\n",
       "    }\n",
       "\n",
       "    .dataframe tbody tr th {\n",
       "        vertical-align: top;\n",
       "    }\n",
       "\n",
       "    .dataframe thead th {\n",
       "        text-align: right;\n",
       "    }\n",
       "</style>\n",
       "<table border=\"1\" class=\"dataframe\">\n",
       "  <thead>\n",
       "    <tr style=\"text-align: right;\">\n",
       "      <th></th>\n",
       "      <th>RMS</th>\n",
       "      <th>OCC</th>\n",
       "      <th>ADR</th>\n",
       "      <th>FOOD_SALES</th>\n",
       "      <th>BEV_SALES</th>\n",
       "    </tr>\n",
       "  </thead>\n",
       "  <tbody>\n",
       "    <tr>\n",
       "      <th>0</th>\n",
       "      <td>98.0</td>\n",
       "      <td>29.3</td>\n",
       "      <td>204.10</td>\n",
       "      <td>13543.0</td>\n",
       "      <td>9023.0</td>\n",
       "    </tr>\n",
       "    <tr>\n",
       "      <th>1</th>\n",
       "      <td>48.0</td>\n",
       "      <td>14.3</td>\n",
       "      <td>230.09</td>\n",
       "      <td>6234.0</td>\n",
       "      <td>5999.0</td>\n",
       "    </tr>\n",
       "    <tr>\n",
       "      <th>2</th>\n",
       "      <td>35.0</td>\n",
       "      <td>10.4</td>\n",
       "      <td>226.25</td>\n",
       "      <td>2359.0</td>\n",
       "      <td>1217.0</td>\n",
       "    </tr>\n",
       "    <tr>\n",
       "      <th>3</th>\n",
       "      <td>76.0</td>\n",
       "      <td>22.7</td>\n",
       "      <td>252.22</td>\n",
       "      <td>4440.0</td>\n",
       "      <td>3923.0</td>\n",
       "    </tr>\n",
       "    <tr>\n",
       "      <th>4</th>\n",
       "      <td>270.0</td>\n",
       "      <td>80.6</td>\n",
       "      <td>301.69</td>\n",
       "      <td>33383.0</td>\n",
       "      <td>34220.0</td>\n",
       "    </tr>\n",
       "  </tbody>\n",
       "</table>\n",
       "</div>"
      ],
      "text/plain": [
       "     RMS   OCC     ADR  FOOD_SALES  BEV_SALES\n",
       "0   98.0  29.3  204.10     13543.0     9023.0\n",
       "1   48.0  14.3  230.09      6234.0     5999.0\n",
       "2   35.0  10.4  226.25      2359.0     1217.0\n",
       "3   76.0  22.7  252.22      4440.0     3923.0\n",
       "4  270.0  80.6  301.69     33383.0    34220.0"
      ]
     },
     "execution_count": 2,
     "metadata": {},
     "output_type": "execute_result"
    }
   ],
   "source": [
    "# Import the dataset\n",
    "sales_df = pd.read_csv(Path('./Resources/total_food.csv'))\n",
    "sales_df.head()"
   ]
  },
  {
   "cell_type": "code",
   "execution_count": 3,
   "metadata": {},
   "outputs": [
    {
     "data": {
      "text/html": [
       "<div>\n",
       "<style scoped>\n",
       "    .dataframe tbody tr th:only-of-type {\n",
       "        vertical-align: middle;\n",
       "    }\n",
       "\n",
       "    .dataframe tbody tr th {\n",
       "        vertical-align: top;\n",
       "    }\n",
       "\n",
       "    .dataframe thead th {\n",
       "        text-align: right;\n",
       "    }\n",
       "</style>\n",
       "<table border=\"1\" class=\"dataframe\">\n",
       "  <thead>\n",
       "    <tr style=\"text-align: right;\">\n",
       "      <th></th>\n",
       "      <th>RMS</th>\n",
       "      <th>OCC</th>\n",
       "      <th>ADR</th>\n",
       "      <th>FOOD_SALES</th>\n",
       "    </tr>\n",
       "  </thead>\n",
       "  <tbody>\n",
       "    <tr>\n",
       "      <th>0</th>\n",
       "      <td>98.0</td>\n",
       "      <td>29.3</td>\n",
       "      <td>204.10</td>\n",
       "      <td>13543.0</td>\n",
       "    </tr>\n",
       "    <tr>\n",
       "      <th>1</th>\n",
       "      <td>48.0</td>\n",
       "      <td>14.3</td>\n",
       "      <td>230.09</td>\n",
       "      <td>6234.0</td>\n",
       "    </tr>\n",
       "    <tr>\n",
       "      <th>2</th>\n",
       "      <td>35.0</td>\n",
       "      <td>10.4</td>\n",
       "      <td>226.25</td>\n",
       "      <td>2359.0</td>\n",
       "    </tr>\n",
       "    <tr>\n",
       "      <th>3</th>\n",
       "      <td>76.0</td>\n",
       "      <td>22.7</td>\n",
       "      <td>252.22</td>\n",
       "      <td>4440.0</td>\n",
       "    </tr>\n",
       "    <tr>\n",
       "      <th>4</th>\n",
       "      <td>270.0</td>\n",
       "      <td>80.6</td>\n",
       "      <td>301.69</td>\n",
       "      <td>33383.0</td>\n",
       "    </tr>\n",
       "  </tbody>\n",
       "</table>\n",
       "</div>"
      ],
      "text/plain": [
       "     RMS   OCC     ADR  FOOD_SALES\n",
       "0   98.0  29.3  204.10     13543.0\n",
       "1   48.0  14.3  230.09      6234.0\n",
       "2   35.0  10.4  226.25      2359.0\n",
       "3   76.0  22.7  252.22      4440.0\n",
       "4  270.0  80.6  301.69     33383.0"
      ]
     },
     "execution_count": 3,
     "metadata": {},
     "output_type": "execute_result"
    }
   ],
   "source": [
    "# Drop the \"BEV_SALES\" column\n",
    "sales_df.drop(columns=\"BEV_SALES\", inplace=True)\n",
    "sales_df.head()"
   ]
  },
  {
   "cell_type": "code",
   "execution_count": 4,
   "metadata": {},
   "outputs": [
    {
     "data": {
      "text/html": [
       "<div>\n",
       "<style scoped>\n",
       "    .dataframe tbody tr th:only-of-type {\n",
       "        vertical-align: middle;\n",
       "    }\n",
       "\n",
       "    .dataframe tbody tr th {\n",
       "        vertical-align: top;\n",
       "    }\n",
       "\n",
       "    .dataframe thead th {\n",
       "        text-align: right;\n",
       "    }\n",
       "</style>\n",
       "<table border=\"1\" class=\"dataframe\">\n",
       "  <thead>\n",
       "    <tr style=\"text-align: right;\">\n",
       "      <th></th>\n",
       "      <th>RMS</th>\n",
       "      <th>OCC</th>\n",
       "      <th>ADR</th>\n",
       "      <th>FOOD_SALES</th>\n",
       "    </tr>\n",
       "  </thead>\n",
       "  <tbody>\n",
       "    <tr>\n",
       "      <th>0</th>\n",
       "      <td>98.0</td>\n",
       "      <td>29.3</td>\n",
       "      <td>204.10</td>\n",
       "      <td>13543.0</td>\n",
       "    </tr>\n",
       "    <tr>\n",
       "      <th>1</th>\n",
       "      <td>48.0</td>\n",
       "      <td>14.3</td>\n",
       "      <td>230.09</td>\n",
       "      <td>6234.0</td>\n",
       "    </tr>\n",
       "    <tr>\n",
       "      <th>2</th>\n",
       "      <td>35.0</td>\n",
       "      <td>10.4</td>\n",
       "      <td>226.25</td>\n",
       "      <td>2359.0</td>\n",
       "    </tr>\n",
       "    <tr>\n",
       "      <th>3</th>\n",
       "      <td>76.0</td>\n",
       "      <td>22.7</td>\n",
       "      <td>252.22</td>\n",
       "      <td>4440.0</td>\n",
       "    </tr>\n",
       "    <tr>\n",
       "      <th>4</th>\n",
       "      <td>270.0</td>\n",
       "      <td>80.6</td>\n",
       "      <td>301.69</td>\n",
       "      <td>33383.0</td>\n",
       "    </tr>\n",
       "    <tr>\n",
       "      <th>...</th>\n",
       "      <td>...</td>\n",
       "      <td>...</td>\n",
       "      <td>...</td>\n",
       "      <td>...</td>\n",
       "    </tr>\n",
       "    <tr>\n",
       "      <th>254</th>\n",
       "      <td>160.0</td>\n",
       "      <td>47.8</td>\n",
       "      <td>192.38</td>\n",
       "      <td>6572.0</td>\n",
       "    </tr>\n",
       "    <tr>\n",
       "      <th>255</th>\n",
       "      <td>266.0</td>\n",
       "      <td>79.4</td>\n",
       "      <td>196.89</td>\n",
       "      <td>13415.0</td>\n",
       "    </tr>\n",
       "    <tr>\n",
       "      <th>256</th>\n",
       "      <td>313.0</td>\n",
       "      <td>93.4</td>\n",
       "      <td>201.98</td>\n",
       "      <td>18605.0</td>\n",
       "    </tr>\n",
       "    <tr>\n",
       "      <th>257</th>\n",
       "      <td>235.0</td>\n",
       "      <td>70.1</td>\n",
       "      <td>219.99</td>\n",
       "      <td>29557.0</td>\n",
       "    </tr>\n",
       "    <tr>\n",
       "      <th>258</th>\n",
       "      <td>121.0</td>\n",
       "      <td>36.1</td>\n",
       "      <td>235.94</td>\n",
       "      <td>10041.0</td>\n",
       "    </tr>\n",
       "  </tbody>\n",
       "</table>\n",
       "<p>259 rows × 4 columns</p>\n",
       "</div>"
      ],
      "text/plain": [
       "       RMS   OCC     ADR  FOOD_SALES\n",
       "0     98.0  29.3  204.10     13543.0\n",
       "1     48.0  14.3  230.09      6234.0\n",
       "2     35.0  10.4  226.25      2359.0\n",
       "3     76.0  22.7  252.22      4440.0\n",
       "4    270.0  80.6  301.69     33383.0\n",
       "..     ...   ...     ...         ...\n",
       "254  160.0  47.8  192.38      6572.0\n",
       "255  266.0  79.4  196.89     13415.0\n",
       "256  313.0  93.4  201.98     18605.0\n",
       "257  235.0  70.1  219.99     29557.0\n",
       "258  121.0  36.1  235.94     10041.0\n",
       "\n",
       "[259 rows x 4 columns]"
      ]
     },
     "execution_count": 4,
     "metadata": {},
     "output_type": "execute_result"
    }
   ],
   "source": [
    "# Delete any rows with negative values\n",
    "sales_df = sales_df[sales_df['FOOD_SALES'] > 0]\n",
    "sales_df\n",
    "\n"
   ]
  },
  {
   "cell_type": "code",
   "execution_count": 5,
   "metadata": {},
   "outputs": [],
   "source": [
    "# Set up test and training data\n",
    "X = sales_df[['RMS', 'OCC', 'ADR']]\n",
    "y = sales_df['FOOD_SALES']\n",
    "\n",
    "# Use standard scaler to scale the data\n",
    "from sklearn.preprocessing import StandardScaler\n",
    "scaler = StandardScaler()\n",
    "scaler.fit(X)\n",
    "X_scaled = scaler.transform(X)\n",
    "\n",
    "# Split the data into training and testing sets\n",
    "X_train, X_test, y_train, y_test = train_test_split(X_scaled, y, random_state=1)\n",
    "\n",
    "\n",
    "\n",
    "\n"
   ]
  },
  {
   "cell_type": "code",
   "execution_count": 6,
   "metadata": {},
   "outputs": [
    {
     "data": {
      "text/plain": [
       "LinearRegression()"
      ]
     },
     "execution_count": 6,
     "metadata": {},
     "output_type": "execute_result"
    }
   ],
   "source": [
    "# Train the model\n",
    "regressor = LinearRegression()\n",
    "regressor.fit(X_train, y_train)"
   ]
  },
  {
   "cell_type": "code",
   "execution_count": 7,
   "metadata": {},
   "outputs": [],
   "source": [
    "# Make predictions on the test set\n",
    "y_pred = regressor.predict(X_test)\n"
   ]
  },
  {
   "cell_type": "code",
   "execution_count": 8,
   "metadata": {},
   "outputs": [
    {
     "name": "stdout",
     "output_type": "stream",
     "text": [
      "Mean Squared Error: 111170850.00729406\n"
     ]
    }
   ],
   "source": [
    "# Evaluate the model's performance\n",
    "mse = mean_squared_error(y_test, y_pred)\n",
    "print(\"Mean Squared Error:\", mse)"
   ]
  },
  {
   "cell_type": "code",
   "execution_count": 9,
   "metadata": {},
   "outputs": [
    {
     "name": "stdout",
     "output_type": "stream",
     "text": [
      "Root Mean Squared Error: 10543.758817769594\n"
     ]
    }
   ],
   "source": [
    "# Calculate the root mean squared error\n",
    "rmse = np.sqrt(mse)\n",
    "print(\"Root Mean Squared Error:\", rmse)"
   ]
  },
  {
   "cell_type": "code",
   "execution_count": 10,
   "metadata": {},
   "outputs": [
    {
     "name": "stdout",
     "output_type": "stream",
     "text": [
      "Mean Squared Error: 146887340.00706917\n",
      "Root Mean Squared Error: 12119.708742666598\n"
     ]
    }
   ],
   "source": [
    "# Use a random forest regressor to predict the food sales\n",
    "from sklearn.ensemble import RandomForestRegressor\n",
    "\n",
    "# Train the model\n",
    "regressor = RandomForestRegressor(n_estimators=100, random_state=0)\n",
    "regressor.fit(X_train, y_train)\n",
    "\n",
    "# Make predictions on the test set\n",
    "y_pred = regressor.predict(X_test)\n",
    "\n",
    "# Evaluate the model's performance\n",
    "mse = mean_squared_error(y_test, y_pred)\n",
    "print(\"Mean Squared Error:\", mse)\n",
    "\n",
    "# Calculate the root mean squared error\n",
    "rmse = np.sqrt(mse)\n",
    "print(\"Root Mean Squared Error:\", rmse)"
   ]
  },
  {
   "cell_type": "code",
   "execution_count": 11,
   "metadata": {},
   "outputs": [
    {
     "name": "stdout",
     "output_type": "stream",
     "text": [
      "Mean Squared Error: 121599757.71587124\n",
      "Root Mean Squared Error: 11027.228015955381\n"
     ]
    }
   ],
   "source": [
    "# Use a gradient boosting regressor to predict the food sales\n",
    "from sklearn.ensemble import GradientBoostingRegressor\n",
    "\n",
    "# Train the model\n",
    "regressor = GradientBoostingRegressor(n_estimators=100, learning_rate=0.1, max_depth=1, random_state=0, loss='squared_error')\n",
    "regressor.fit(X_train, y_train)\n",
    "\n",
    "# Make predictions on the test set\n",
    "y_pred = regressor.predict(X_test)\n",
    "\n",
    "# Evaluate the model's performance\n",
    "mse = mean_squared_error(y_test, y_pred)\n",
    "print(\"Mean Squared Error:\", mse)\n",
    "\n",
    "# Calculate the root mean squared error\n",
    "rmse = np.sqrt(mse)\n",
    "print(\"Root Mean Squared Error:\", rmse)\n",
    "\n",
    "\n"
   ]
  },
  {
   "cell_type": "code",
   "execution_count": 12,
   "metadata": {},
   "outputs": [
    {
     "name": "stdout",
     "output_type": "stream",
     "text": [
      "Mean Squared Error: 223723874.1085168\n",
      "Root Mean Squared Error: 14957.40198391809\n"
     ]
    },
    {
     "data": {
      "text/plain": [
       "0.18888408477306307"
      ]
     },
     "execution_count": 12,
     "metadata": {},
     "output_type": "execute_result"
    }
   ],
   "source": [
    "# Use a support vector machine regressor to predict the food sales\n",
    "from sklearn.svm import SVR\n",
    "\n",
    "# Train the model\n",
    "\n",
    "regressor = SVR(kernel='rbf', C=100, gamma=0.1, epsilon=.1)\n",
    "regressor.fit(X_train, y_train)\n",
    "\n",
    "# Make predictions on the test set\n",
    "y_pred = regressor.predict(X_test)\n",
    "\n",
    "# Evaluate the model's performance\n",
    "mse = mean_squared_error(y_test, y_pred)\n",
    "print(\"Mean Squared Error:\", mse)\n",
    "\n",
    "# Calculate the root mean squared error\n",
    "rmse = np.sqrt(mse)\n",
    "print(\"Root Mean Squared Error:\", rmse)\n",
    "\n",
    "# Assess the accuracy of the model\n",
    "regressor.score(X_test, y_test)\n",
    "\n",
    "\n"
   ]
  },
  {
   "cell_type": "code",
   "execution_count": 18,
   "metadata": {},
   "outputs": [
    {
     "name": "stdout",
     "output_type": "stream",
     "text": [
      "Mean Squared Error: 142515333.2458372\n",
      "Root Mean Squared Error: 11937.978608032317\n"
     ]
    }
   ],
   "source": [
    "# Use a neural network regressor to predict the food sales\n",
    "from sklearn.neural_network import MLPRegressor\n",
    "\n",
    "# Train the model\n",
    "regressor = MLPRegressor(hidden_layer_sizes=(100,100,100), activation='relu', solver='adam', max_iter=100000)\n",
    "regressor.fit(X_train, y_train)\n",
    "\n",
    "# Make predictions on the test set\n",
    "y_pred = regressor.predict(X_test)\n",
    "\n",
    "# Evaluate the model's performance\n",
    "mse = mean_squared_error(y_test, y_pred)\n",
    "print(\"Mean Squared Error:\", mse)\n",
    "\n",
    "# Calculate the root mean squared error\n",
    "rmse = np.sqrt(mse)\n",
    "print(\"Root Mean Squared Error:\", rmse)\n"
   ]
  },
  {
   "cell_type": "code",
   "execution_count": 19,
   "metadata": {},
   "outputs": [
    {
     "data": {},
     "metadata": {},
     "output_type": "display_data"
    },
    {
     "data": {
      "application/vnd.holoviews_exec.v0+json": "",
      "text/html": [
       "<div id='1114'>\n",
       "  <div class=\"bk-root\" id=\"d3c1d845-39a2-4f55-b67a-5caf7970fe47\" data-root-id=\"1114\"></div>\n",
       "</div>\n",
       "<script type=\"application/javascript\">(function(root) {\n",
       "  function embed_document(root) {\n",
       "    var docs_json = {\"091504dd-5fc1-4f2f-bef0-5bbf51bc7134\":{\"defs\":[{\"extends\":null,\"module\":null,\"name\":\"ReactiveHTML1\",\"overrides\":[],\"properties\":[]},{\"extends\":null,\"module\":null,\"name\":\"FlexBox1\",\"overrides\":[],\"properties\":[{\"default\":\"flex-start\",\"kind\":null,\"name\":\"align_content\"},{\"default\":\"flex-start\",\"kind\":null,\"name\":\"align_items\"},{\"default\":\"row\",\"kind\":null,\"name\":\"flex_direction\"},{\"default\":\"wrap\",\"kind\":null,\"name\":\"flex_wrap\"},{\"default\":\"flex-start\",\"kind\":null,\"name\":\"justify_content\"}]},{\"extends\":null,\"module\":null,\"name\":\"GridStack1\",\"overrides\":[],\"properties\":[{\"default\":\"warn\",\"kind\":null,\"name\":\"mode\"},{\"default\":null,\"kind\":null,\"name\":\"ncols\"},{\"default\":null,\"kind\":null,\"name\":\"nrows\"},{\"default\":true,\"kind\":null,\"name\":\"allow_resize\"},{\"default\":true,\"kind\":null,\"name\":\"allow_drag\"},{\"default\":[],\"kind\":null,\"name\":\"state\"}]},{\"extends\":null,\"module\":null,\"name\":\"click1\",\"overrides\":[],\"properties\":[{\"default\":\"\",\"kind\":null,\"name\":\"terminal_output\"},{\"default\":\"\",\"kind\":null,\"name\":\"debug_name\"},{\"default\":0,\"kind\":null,\"name\":\"clears\"}]},{\"extends\":null,\"module\":null,\"name\":\"NotificationAreaBase1\",\"overrides\":[],\"properties\":[{\"default\":\"bottom-right\",\"kind\":null,\"name\":\"position\"},{\"default\":0,\"kind\":null,\"name\":\"_clear\"}]},{\"extends\":null,\"module\":null,\"name\":\"NotificationArea1\",\"overrides\":[],\"properties\":[{\"default\":[],\"kind\":null,\"name\":\"notifications\"},{\"default\":\"bottom-right\",\"kind\":null,\"name\":\"position\"},{\"default\":0,\"kind\":null,\"name\":\"_clear\"},{\"default\":[{\"background\":\"#ffc107\",\"icon\":{\"className\":\"fas fa-exclamation-triangle\",\"color\":\"white\",\"tagName\":\"i\"},\"type\":\"warning\"},{\"background\":\"#007bff\",\"icon\":{\"className\":\"fas fa-info-circle\",\"color\":\"white\",\"tagName\":\"i\"},\"type\":\"info\"}],\"kind\":null,\"name\":\"types\"}]},{\"extends\":null,\"module\":null,\"name\":\"Notification\",\"overrides\":[],\"properties\":[{\"default\":null,\"kind\":null,\"name\":\"background\"},{\"default\":3000,\"kind\":null,\"name\":\"duration\"},{\"default\":null,\"kind\":null,\"name\":\"icon\"},{\"default\":\"\",\"kind\":null,\"name\":\"message\"},{\"default\":null,\"kind\":null,\"name\":\"notification_type\"},{\"default\":false,\"kind\":null,\"name\":\"_destroyed\"}]},{\"extends\":null,\"module\":null,\"name\":\"TemplateActions1\",\"overrides\":[],\"properties\":[{\"default\":0,\"kind\":null,\"name\":\"open_modal\"},{\"default\":0,\"kind\":null,\"name\":\"close_modal\"}]},{\"extends\":null,\"module\":null,\"name\":\"MaterialTemplateActions1\",\"overrides\":[],\"properties\":[{\"default\":0,\"kind\":null,\"name\":\"open_modal\"},{\"default\":0,\"kind\":null,\"name\":\"close_modal\"}]}],\"roots\":{\"references\":[{\"attributes\":{\"end\":100000,\"reset_end\":100000,\"reset_start\":0,\"tags\":[[[\"Predicted\",\"Predicted\",null]]]},\"id\":\"1117\",\"type\":\"Range1d\"},{\"attributes\":{\"margin\":[5,5,5,5],\"name\":\"HSpacer00970\",\"sizing_mode\":\"stretch_width\"},\"id\":\"1174\",\"type\":\"Spacer\"},{\"attributes\":{\"angle\":{\"value\":0.0},\"fill_alpha\":{\"value\":1.0},\"fill_color\":{\"value\":\"#30a2da\"},\"hatch_alpha\":{\"value\":1.0},\"hatch_color\":{\"value\":\"#30a2da\"},\"hatch_scale\":{\"value\":12.0},\"hatch_weight\":{\"value\":1.0},\"line_alpha\":{\"value\":1.0},\"line_cap\":{\"value\":\"butt\"},\"line_color\":{\"value\":\"#30a2da\"},\"line_dash\":{\"value\":[]},\"line_dash_offset\":{\"value\":0},\"line_join\":{\"value\":\"bevel\"},\"line_width\":{\"value\":1},\"marker\":{\"value\":\"circle\"},\"size\":{\"value\":5.477225575051661},\"x\":{\"field\":\"Actual\"},\"y\":{\"field\":\"Predicted\"}},\"id\":\"1157\",\"type\":\"Scatter\"},{\"attributes\":{\"coordinates\":null,\"data_source\":{\"id\":\"1149\"},\"glyph\":{\"id\":\"1152\"},\"group\":null,\"hover_glyph\":null,\"muted_glyph\":{\"id\":\"1154\"},\"nonselection_glyph\":{\"id\":\"1153\"},\"selection_glyph\":{\"id\":\"1157\"},\"view\":{\"id\":\"1156\"}},\"id\":\"1155\",\"type\":\"GlyphRenderer\"},{\"attributes\":{},\"id\":\"1126\",\"type\":\"LinearScale\"},{\"attributes\":{\"fill_alpha\":{\"value\":0.2},\"fill_color\":{\"value\":\"#30a2da\"},\"hatch_alpha\":{\"value\":0.2},\"hatch_color\":{\"value\":\"#30a2da\"},\"line_alpha\":{\"value\":0.2},\"line_color\":{\"value\":\"#30a2da\"},\"size\":{\"value\":5.477225575051661},\"x\":{\"field\":\"Actual\"},\"y\":{\"field\":\"Predicted\"}},\"id\":\"1154\",\"type\":\"Scatter\"},{\"attributes\":{\"fill_color\":{\"value\":\"#30a2da\"},\"hatch_color\":{\"value\":\"#30a2da\"},\"line_color\":{\"value\":\"#30a2da\"},\"size\":{\"value\":5.477225575051661},\"x\":{\"field\":\"Actual\"},\"y\":{\"field\":\"Predicted\"}},\"id\":\"1152\",\"type\":\"Scatter\"},{\"attributes\":{},\"id\":\"1159\",\"type\":\"BasicTickFormatter\"},{\"attributes\":{},\"id\":\"1124\",\"type\":\"LinearScale\"},{\"attributes\":{\"end\":100000,\"reset_end\":100000,\"reset_start\":0,\"tags\":[[[\"Actual\",\"Actual\",null]]]},\"id\":\"1116\",\"type\":\"Range1d\"},{\"attributes\":{},\"id\":\"1171\",\"type\":\"UnionRenderers\"},{\"attributes\":{\"data\":{\"Actual\":{\"__ndarray__\":\"AAAAAMDu5EAAAAAAgKHPQAAAAAAAJchAAAAAAAA+qUAAAAAAAPykQAAAAACA581AAAAAAIAPwUAAAAAAgBfWQAAAAADgwepAAAAAAIC64UAAAAAAgJzDQAAAAACA/eBAAAAAAOBM4EAAAAAAgITFQAAAAABgYPBAAAAAAMC610AAAAAAAFahQAAAAABQe/FAAAAAAGCH5UAAAAAAAPvMQAAAAADA291AAAAAAMA15EAAAAAAAESoQAAAAACAqMZAAAAAAEBI1UAAAAAAoLnlQAAAAABAVNxAAAAAAABIwEAAAAAAwDzSQAAAAADAleVAAAAAAMCK0EAAAAAAgObTQAAAAACACcxAAAAAAIAb4EAAAAAAwAfSQAAAAADA4tFAAAAAAIB+4EAAAAAAwJ7bQAAAAACA5s5AAAAAAABklEAAAAAAAICLQAAAAAAAV7dAAAAAAACnzkAAAAAAwF7XQAAAAADACehAAAAAAABAjkAAAAAAQCXVQAAAAAAAac9AAAAAAACLyEAAAAAAIHLjQAAAAADAXtVAAAAAAAAlxUAAAAAAwJHsQAAAAAAA3OhAAAAAAABl3EAAAAAAgHPKQAAAAAAAtLJAAAAAAACqy0AAAAAAAFe/QAAAAACA5uhAAAAAAIBy0kAAAAAAAAnYQAAAAABAuthAAAAAAMC81EAAAAAAgPLJQA==\",\"dtype\":\"float64\",\"order\":\"little\",\"shape\":[65]},\"Predicted\":{\"__ndarray__\":\"fv46xdUn20CSt0cHuc/aQHMMM6wiNNdAt9f6Qjb9skD9QMV83xOrQCjFVjRPE9ZAGDr1TRVJxECn3wHnIa/bQLiuTqQx8txACtdFNSgC20Bozy3LyrXWQENkKBQZpOJANVjvnZEZ3UAJz/nqksrRQKSrnI45a+ZAXNeaXnwQ0kAdYo4ZEvOtQK743LiyIdpAhj1mG4rM4UCt9R6RZOvXQDwIIFu8hN9A0A0218sB4UDP46ySwJ6wQE8Pce6FA9dApTXpXwaJ4UB2EwPkUVreQJFYyN/TuOFAPYt98Yuqv0D8zPBDYIXYQOKq0rynUeFApoK61BnH1kA+Br2DWcfRQNzrTu9sUctAfjXCpZyh4kBGltKikpzYQHH9NjgyDOBAStcyPvZe4ECftPqhEqXhQK67n1OWVtRA5bMn6FOGrECli0YFYt2tQHECPD1WbLRAL/tdC5zQvkD48ndWevnSQDrwJWKi1txAlMunQ8/6i0C93wIS5/rTQB9IfuIXANRAub9g0gU+rECpR+qYA1vkQFjb7gLUW9JAGzpz/0Ig4kCc9H8pwOnXQPi1Z0dozeFA6FCFUvqy5kDgYs06qUzIQC0UsWjtUcBA4AELUi97wEDRHFX+fIrCQHbcaHKV7NtAVobqh/Mq4EAD9VGWtkbgQOzUf94CPN1Aon0Zr7i62kCcp6FNQKPVQA==\",\"dtype\":\"float64\",\"order\":\"little\",\"shape\":[65]}},\"selected\":{\"id\":\"1150\"},\"selection_policy\":{\"id\":\"1171\"}},\"id\":\"1149\",\"type\":\"ColumnDataSource\"},{\"attributes\":{},\"id\":\"1162\",\"type\":\"BasicTickFormatter\"},{\"attributes\":{\"callback\":null,\"renderers\":[{\"id\":\"1155\"}],\"tags\":[\"hv_created\"],\"tooltips\":[[\"Actual\",\"@{Actual}\"],[\"Predicted\",\"@{Predicted}\"]]},\"id\":\"1118\",\"type\":\"HoverTool\"},{\"attributes\":{\"tools\":[{\"id\":\"1118\"},{\"id\":\"1136\"},{\"id\":\"1137\"},{\"id\":\"1138\"},{\"id\":\"1139\"},{\"id\":\"1140\"}]},\"id\":\"1142\",\"type\":\"Toolbar\"},{\"attributes\":{\"fill_alpha\":{\"value\":0.1},\"fill_color\":{\"value\":\"#30a2da\"},\"hatch_alpha\":{\"value\":0.1},\"hatch_color\":{\"value\":\"#30a2da\"},\"line_alpha\":{\"value\":0.1},\"line_color\":{\"value\":\"#30a2da\"},\"size\":{\"value\":5.477225575051661},\"x\":{\"field\":\"Actual\"},\"y\":{\"field\":\"Predicted\"}},\"id\":\"1153\",\"type\":\"Scatter\"},{\"attributes\":{\"coordinates\":null,\"group\":null,\"text_color\":\"black\",\"text_font_size\":\"12pt\"},\"id\":\"1120\",\"type\":\"Title\"},{\"attributes\":{\"below\":[{\"id\":\"1128\"}],\"center\":[{\"id\":\"1131\"},{\"id\":\"1135\"}],\"height\":300,\"left\":[{\"id\":\"1132\"}],\"margin\":[5,5,5,5],\"min_border_bottom\":10,\"min_border_left\":10,\"min_border_right\":10,\"min_border_top\":10,\"renderers\":[{\"id\":\"1155\"}],\"sizing_mode\":\"fixed\",\"title\":{\"id\":\"1120\"},\"toolbar\":{\"id\":\"1142\"},\"width\":700,\"x_range\":{\"id\":\"1116\"},\"x_scale\":{\"id\":\"1124\"},\"y_range\":{\"id\":\"1117\"},\"y_scale\":{\"id\":\"1126\"}},\"id\":\"1119\",\"subtype\":\"Figure\",\"type\":\"Plot\"},{\"attributes\":{\"axis_label\":\"Actual\",\"coordinates\":null,\"formatter\":{\"id\":\"1159\"},\"group\":null,\"major_label_policy\":{\"id\":\"1160\"},\"ticker\":{\"id\":\"1129\"}},\"id\":\"1128\",\"type\":\"LinearAxis\"},{\"attributes\":{\"margin\":[5,5,5,5],\"name\":\"HSpacer00969\",\"sizing_mode\":\"stretch_width\"},\"id\":\"1115\",\"type\":\"Spacer\"},{\"attributes\":{\"source\":{\"id\":\"1149\"}},\"id\":\"1156\",\"type\":\"CDSView\"},{\"attributes\":{},\"id\":\"1129\",\"type\":\"BasicTicker\"},{\"attributes\":{\"axis\":{\"id\":\"1128\"},\"coordinates\":null,\"grid_line_color\":null,\"group\":null,\"ticker\":null},\"id\":\"1131\",\"type\":\"Grid\"},{\"attributes\":{\"children\":[{\"id\":\"1115\"},{\"id\":\"1119\"},{\"id\":\"1174\"}],\"margin\":[0,0,0,0],\"name\":\"Row00965\",\"tags\":[\"embedded\"]},\"id\":\"1114\",\"type\":\"Row\"},{\"attributes\":{},\"id\":\"1137\",\"type\":\"PanTool\"},{\"attributes\":{},\"id\":\"1163\",\"type\":\"AllLabels\"},{\"attributes\":{\"axis_label\":\"Predicted\",\"coordinates\":null,\"formatter\":{\"id\":\"1162\"},\"group\":null,\"major_label_policy\":{\"id\":\"1163\"},\"ticker\":{\"id\":\"1133\"}},\"id\":\"1132\",\"type\":\"LinearAxis\"},{\"attributes\":{\"axis\":{\"id\":\"1132\"},\"coordinates\":null,\"dimension\":1,\"grid_line_color\":null,\"group\":null,\"ticker\":null},\"id\":\"1135\",\"type\":\"Grid\"},{\"attributes\":{},\"id\":\"1160\",\"type\":\"AllLabels\"},{\"attributes\":{},\"id\":\"1133\",\"type\":\"BasicTicker\"},{\"attributes\":{},\"id\":\"1138\",\"type\":\"WheelZoomTool\"},{\"attributes\":{},\"id\":\"1136\",\"type\":\"SaveTool\"},{\"attributes\":{},\"id\":\"1150\",\"type\":\"Selection\"},{\"attributes\":{\"overlay\":{\"id\":\"1141\"}},\"id\":\"1139\",\"type\":\"BoxZoomTool\"},{\"attributes\":{},\"id\":\"1140\",\"type\":\"ResetTool\"},{\"attributes\":{\"bottom_units\":\"screen\",\"coordinates\":null,\"fill_alpha\":0.5,\"fill_color\":\"lightgrey\",\"group\":null,\"left_units\":\"screen\",\"level\":\"overlay\",\"line_alpha\":1.0,\"line_color\":\"black\",\"line_dash\":[4,4],\"line_width\":2,\"right_units\":\"screen\",\"syncable\":false,\"top_units\":\"screen\"},\"id\":\"1141\",\"type\":\"BoxAnnotation\"}],\"root_ids\":[\"1114\"]},\"title\":\"Bokeh Application\",\"version\":\"2.4.3\"}};\n",
       "    var render_items = [{\"docid\":\"091504dd-5fc1-4f2f-bef0-5bbf51bc7134\",\"root_ids\":[\"1114\"],\"roots\":{\"1114\":\"d3c1d845-39a2-4f55-b67a-5caf7970fe47\"}}];\n",
       "    root.Bokeh.embed.embed_items_notebook(docs_json, render_items);\n",
       "    for (const render_item of render_items) {\n",
       "      for (const root_id of render_item.root_ids) {\n",
       "\tconst id_el = document.getElementById(root_id)\n",
       "\tif (id_el.children.length && (id_el.children[0].className === 'bk-root')) {\n",
       "\t  const root_el = id_el.children[0]\n",
       "\t  root_el.id = root_el.id + '-rendered'\n",
       "\t}\n",
       "      }\n",
       "    }\n",
       "  }\n",
       "  if (root.Bokeh !== undefined && root.Bokeh.Panel !== undefined) {\n",
       "    embed_document(root);\n",
       "  } else {\n",
       "    var attempts = 0;\n",
       "    var timer = setInterval(function(root) {\n",
       "      if (root.Bokeh !== undefined && root.Bokeh.Panel !== undefined) {\n",
       "        clearInterval(timer);\n",
       "        embed_document(root);\n",
       "      } else if (document.readyState == \"complete\") {\n",
       "        attempts++;\n",
       "        if (attempts > 200) {\n",
       "          clearInterval(timer);\n",
       "          console.log(\"Bokeh: ERROR: Unable to run BokehJS code because BokehJS library is missing\");\n",
       "        }\n",
       "      }\n",
       "    }, 25, root)\n",
       "  }\n",
       "})(window);</script>"
      ],
      "text/plain": [
       ":Scatter   [Actual]   (Predicted)"
      ]
     },
     "execution_count": 19,
     "metadata": {
      "application/vnd.holoviews_exec.v0+json": {
       "id": "1114"
      }
     },
     "output_type": "execute_result"
    }
   ],
   "source": [
    "import hvplot.pandas\n",
    "import plotly.express as px\n",
    "# Plot the predicted values against the actual values using hvplot\n",
    "df = pd.DataFrame({'Actual': y_test, 'Predicted': y_pred})\n",
    "df.hvplot.scatter(x='Actual', y='Predicted', xlim=(0, 100000), ylim=(0, 100000))\n"
   ]
  },
  {
   "cell_type": "code",
   "execution_count": 20,
   "metadata": {},
   "outputs": [
    {
     "name": "stdout",
     "output_type": "stream",
     "text": [
      "Mean Squared Error: 110246297.99211048\n",
      "Root Mean Squared Error: 10499.82371243015\n"
     ]
    }
   ],
   "source": [
    "# Use a lasse regressor to predict the food sales\n",
    "from sklearn.linear_model import Lasso\n",
    "\n",
    "# Train the model\n",
    "regressor = Lasso(alpha=0.1, max_iter=1e7)\n",
    "regressor.fit(X_train, y_train)\n",
    "\n",
    "# Make predictions on the test set\n",
    "y_pred = regressor.predict(X_test)\n",
    "\n",
    "# Evaluate the model's performance\n",
    "mse = mean_squared_error(y_test, y_pred)\n",
    "print(\"Mean Squared Error:\", mse)\n",
    "\n",
    "# Calculate the root mean squared error\n",
    "rmse = np.sqrt(mse)\n",
    "print(\"Root Mean Squared Error:\", rmse)"
   ]
  },
  {
   "cell_type": "code",
   "execution_count": null,
   "metadata": {},
   "outputs": [],
   "source": []
  }
 ],
 "metadata": {
  "kernelspec": {
   "display_name": "py39",
   "language": "python",
   "name": "py39"
  },
  "orig_nbformat": 4
 },
 "nbformat": 4,
 "nbformat_minor": 2
}
